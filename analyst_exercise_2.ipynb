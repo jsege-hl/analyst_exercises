{
 "cells": [
  {
   "cell_type": "markdown",
   "metadata": {},
   "source": [
    "<font size=6 color='#4a86e8'><b><i>Analyst Exercise 2</i></b></font><p align=\"right\">Calculate scroll rates for the top 10 articles</p>"
   ]
  },
  {
   "cell_type": "markdown",
   "metadata": {},
   "source": [
    "<i><font size=4 color='#4a86e8'>Import packages</font></i>"
   ]
  },
  {
   "cell_type": "code",
   "execution_count": null,
   "metadata": {},
   "outputs": [],
   "source": [
    "import pandas as pd\n",
    "import re"
   ]
  },
  {
   "cell_type": "markdown",
   "metadata": {},
   "source": [
    "<i><font size=4 color='#4a86e8'>Load csv data and preview</font></i>"
   ]
  },
  {
   "cell_type": "code",
   "execution_count": null,
   "metadata": {},
   "outputs": [],
   "source": [
    "dat = pd.read_csv('~/AnalystExercises/Data/scroll_depth.csv')\n",
    "print(dat)"
   ]
  },
  {
   "cell_type": "markdown",
   "metadata": {},
   "source": [
    "<i><font size=4 color='#4a86e8'>Since our dataframe doesn't have numeric percentiles, we need to add them</font></i>"
   ]
  },
  {
   "cell_type": "code",
   "execution_count": null,
   "metadata": {},
   "outputs": [],
   "source": [
    "dat.insert(\n",
    "    2, 'Percentile', [int(re.sub('[^0-9]', '', s))/100 for s in dat['EventAction']]\n",
    ")"
   ]
  },
  {
   "cell_type": "markdown",
   "metadata": {},
   "source": [
    "<i><font size=4 color='#4a86e8'>If you want you can preview the dataframe to be sure the percentiles were added correctly</font></i>"
   ]
  },
  {
   "cell_type": "code",
   "execution_count": null,
   "metadata": {},
   "outputs": [],
   "source": [
    "print(dat)"
   ]
  },
  {
   "cell_type": "markdown",
   "metadata": {},
   "source": [
    "<i><font size=4 color='#4a86e8'>Before we do the analysis, we might want to look for duplicated page paths due to case-sensitivity</font></i>"
   ]
  },
  {
   "cell_type": "code",
   "execution_count": null,
   "metadata": {},
   "outputs": [],
   "source": [
    "dat = dat.assign(\n",
    "    PagePath = [d.lower() for d in dat['PagePath']]\n",
    ")"
   ]
  },
  {
   "cell_type": "markdown",
   "metadata": {},
   "source": [
    "<i><font size=4 color='#4a86e8'>Note that some page paths have duplicated values at the same scroll depth. Is case-sensitivity important?</font></i>"
   ]
  },
  {
   "cell_type": "code",
   "execution_count": null,
   "metadata": {},
   "outputs": [],
   "source": [
    "print(dat[dat.duplicated(subset=['PagePath', 'EventAction'], keep=False)].sort_values(by=['PagePath', 'EventAction']))"
   ]
  },
  {
   "cell_type": "markdown",
   "metadata": {},
   "source": [
    "<i><font size=4 color='#4a86e8'>For now, I'm going to combine the duplicates</font></i>"
   ]
  },
  {
   "cell_type": "code",
   "execution_count": null,
   "metadata": {},
   "outputs": [],
   "source": [
    "subset = dat[dat.duplicated(subset=['PagePath', 'EventAction'], keep=False)].sort_values(by=['PagePath', 'EventAction'])\n",
    "\n",
    "deduped = subset.groupby(['PagePath', 'EventAction', 'Percentile']).sum().reset_index()\n",
    "\n",
    "dat = dat.drop_duplicates(subset=['PagePath', 'EventAction'], keep=False).append(deduped).reset_index(drop=True)"
   ]
  },
  {
   "cell_type": "markdown",
   "metadata": {},
   "source": [
    "<i><font size=4 color='#4a86e8'>If you want you can preview the dataframe to see the changes<br>(note 3 fewer rows than above)</font></i>"
   ]
  },
  {
   "cell_type": "code",
   "execution_count": null,
   "metadata": {},
   "outputs": [],
   "source": [
    "print(dat)"
   ]
  },
  {
   "cell_type": "markdown",
   "metadata": {},
   "source": [
    "<i><font size=4 color='#4a86e8'>Define a function to calculate the average scroll rate for each subset of the dataframe\n",
    "<br>Sum of (# of views per each percentile * the percentile)/total pageviews</font></i>"
   ]
  },
  {
   "cell_type": "code",
   "execution_count": null,
   "metadata": {},
   "outputs": [],
   "source": [
    "def avg_scroll_rate(x):\n",
    "    return round(sum([(row['Pageviews'] * row['Percentile']) for index, row in x.iterrows()])/sum(x['Pageviews']), 3)"
   ]
  },
  {
   "cell_type": "markdown",
   "metadata": {},
   "source": [
    "<i><b><font size=4 color='#4a86e8'>Finally, we can group our page paths, apply the scroll rate calculation, and view the results</i></b></font>"
   ]
  },
  {
   "cell_type": "code",
   "execution_count": null,
   "metadata": {},
   "outputs": [],
   "source": [
    "grouped = dat.groupby('PagePath')\n",
    "\n",
    "results = grouped.apply(avg_scroll_rate).sort_values(ascending=False)\n",
    "\n",
    "print(results)"
   ]
  },
  {
   "cell_type": "raw",
   "metadata": {},
   "source": []
  }
 ],
 "metadata": {
  "kernelspec": {
   "display_name": "Python 3",
   "language": "python",
   "name": "python3"
  },
  "language_info": {
   "codemirror_mode": {
    "name": "ipython",
    "version": 3
   },
   "file_extension": ".py",
   "mimetype": "text/x-python",
   "name": "python",
   "nbconvert_exporter": "python",
   "pygments_lexer": "ipython3",
   "version": "3.7.4"
  }
 },
 "nbformat": 4,
 "nbformat_minor": 2
}
